{
 "cells": [
  {
   "cell_type": "code",
   "execution_count": 1,
   "metadata": {},
   "outputs": [],
   "source": [
    "#library import\n",
    "import findspark\n",
    "findspark.init()\n",
    "import pyspark\n",
    "from pyspark.sql import SparkSession\n",
    "import os, random, json\n",
    "spark=SparkSession.builder.master(\"local\").appName(\"studentmarkpractice\").getOrCreate()"
   ]
  },
  {
   "cell_type": "code",
   "execution_count": 2,
   "metadata": {},
   "outputs": [],
   "source": [
    "#script execution for raw data to pre-landing\n",
    "class Raw_to_prelanding:\n",
    "    \n",
    "    \"\"\"Script to read raw file from local path to pre landing\"\"\"\n",
    "    \n",
    "    def __init__(self,file_parameter):\n",
    "        \n",
    "        \"\"\"function to get input parameters to read the file from local path\"\"\"\n",
    "        self.file_parameter=file_parameter\n",
    "\n",
    "    def read_csv(self):\n",
    "        return spark.read.format(self.file_parameter['src_format']).option(\"header\",\"True\").load(self.file_parameter['src_path'])\n",
    "    \n",
    "    def write_csv(self,df):\n",
    "        df.write.format(self.file_parameter['dest_format']).mode(\"overwrite\").save(self.file_parameter['dest_path'])\n",
    "        \n",
    "    def create_view(self,df):\n",
    "        df.createOrReplaceTempView(self.file_parameter['view_name'])\n",
    "        \n",
    "    def open_dir(self):\n",
    "        os.chdir(self.file_parameter['dest_path'])\n",
    "        dest_file_path=f\"{self.file_parameter['view_name']}.csv\"\n",
    "        for file in os.listdir():\n",
    "        # Check whether file is in text format or not\n",
    "            if file.endswith(\".csv\"):\n",
    "                src_file_path = f\"{file}\"\n",
    "                os.rename(src_file_path,dest_file_path)\n",
    "            else:\n",
    "                src_file_path = f\"{file}\"\n",
    "                os.remove(src_file_path)\n",
    "        print(os.getcwd())\n",
    "        \n",
    "    def dynamic_data_generate(self):\n",
    "        studentid=spark.sql(\"select Student_ID from studentdetails\")\n",
    "        studentcount=studentid.count()\n",
    "        subjectid=spark.sql(\"select Subject_ID from subjectdetails\")\n",
    "        subjectcount=subjectid.count()\n",
    "        month = [\"11-26-2021\",\"12-26-2021\",\"01-26-2022\"]\n",
    "        datastr=\"[\"\n",
    "\n",
    "        for x in range(studentcount):\n",
    "\n",
    "            for y in month:\n",
    "\n",
    "                for z in range(subjectcount-1):\n",
    "                    datastr=datastr+'{\"Student_ID\":'+studentid.collect()[x][0]+',\"Date\":\"'+y+'\",\"Subject_ID\":'+subjectid.collect()[z][0]+',\"Marks\":'+str(random.randint(40,100))+'},'\n",
    "        datastr=datastr+'{\"Student_ID\":'+studentid.collect()[x][0]+',\"Date\":\"'+y+'\",\"Subject_ID\":'+subjectid.collect()[z][0]+',\"Marks\":'+str(random.randint(40,100))+'}'        \n",
    "        datastr=datastr+\"]\"\n",
    "        \n",
    "        data=json.loads(datastr)\n",
    "        df = spark.createDataFrame(data)\n",
    "        self.write_csv(df)\n",
    "    \n",
    "    def main_block(self):\n",
    "        \n",
    "        \"\"\"main execution block\"\"\"\n",
    "        df=self.read_csv() \n",
    "        self.write_csv(df)\n",
    "        self.create_view(df)\n",
    "        self.open_dir()\n",
    "        \n"
   ]
  },
  {
   "cell_type": "code",
   "execution_count": 3,
   "metadata": {},
   "outputs": [
    {
     "ename": "FileNotFoundError",
     "evalue": "[WinError 3] The system cannot find the path specified: 'part-00000-a3609a32-5a30-4120-9d0a-6b1b81ede4ba-c000.csv' -> '../../../data_files/pre_landing/raw_files/school/student/studentdetails.csv'",
     "output_type": "error",
     "traceback": [
      "\u001b[1;31m---------------------------------------------------------------------------\u001b[0m",
      "\u001b[1;31mFileNotFoundError\u001b[0m                         Traceback (most recent call last)",
      "\u001b[1;32m<ipython-input-3-53dbdb9109f6>\u001b[0m in \u001b[0;36m<module>\u001b[1;34m\u001b[0m\n\u001b[0;32m     25\u001b[0m     \u001b[0mprelanding_obj2\u001b[0m\u001b[1;33m=\u001b[0m\u001b[0mRaw_to_prelanding\u001b[0m\u001b[1;33m(\u001b[0m\u001b[0mfile_parameter2\u001b[0m\u001b[1;33m)\u001b[0m\u001b[1;33m\u001b[0m\u001b[1;33m\u001b[0m\u001b[0m\n\u001b[0;32m     26\u001b[0m     \u001b[0mprelanding_obj3\u001b[0m\u001b[1;33m=\u001b[0m\u001b[0mRaw_to_prelanding\u001b[0m\u001b[1;33m(\u001b[0m\u001b[0mfile_parameter3\u001b[0m\u001b[1;33m)\u001b[0m\u001b[1;33m\u001b[0m\u001b[1;33m\u001b[0m\u001b[0m\n\u001b[1;32m---> 27\u001b[1;33m     \u001b[0mprelanding_obj1\u001b[0m\u001b[1;33m.\u001b[0m\u001b[0mmain_block\u001b[0m\u001b[1;33m(\u001b[0m\u001b[1;33m)\u001b[0m\u001b[1;33m\u001b[0m\u001b[1;33m\u001b[0m\u001b[0m\n\u001b[0m\u001b[0;32m     28\u001b[0m     \u001b[1;31m#prelanding_obj2.main_block()\u001b[0m\u001b[1;33m\u001b[0m\u001b[1;33m\u001b[0m\u001b[1;33m\u001b[0m\u001b[0m\n\u001b[0;32m     29\u001b[0m     \u001b[1;31m#prelanding_obj3.dynamic_data_generate()\u001b[0m\u001b[1;33m\u001b[0m\u001b[1;33m\u001b[0m\u001b[1;33m\u001b[0m\u001b[0m\n",
      "\u001b[1;32m<ipython-input-2-24ec974f94cb>\u001b[0m in \u001b[0;36mmain_block\u001b[1;34m(self)\u001b[0m\n\u001b[0;32m     58\u001b[0m         \u001b[0mself\u001b[0m\u001b[1;33m.\u001b[0m\u001b[0mwrite_csv\u001b[0m\u001b[1;33m(\u001b[0m\u001b[0mdf\u001b[0m\u001b[1;33m)\u001b[0m\u001b[1;33m\u001b[0m\u001b[1;33m\u001b[0m\u001b[0m\n\u001b[0;32m     59\u001b[0m         \u001b[0mself\u001b[0m\u001b[1;33m.\u001b[0m\u001b[0mcreate_view\u001b[0m\u001b[1;33m(\u001b[0m\u001b[0mdf\u001b[0m\u001b[1;33m)\u001b[0m\u001b[1;33m\u001b[0m\u001b[1;33m\u001b[0m\u001b[0m\n\u001b[1;32m---> 60\u001b[1;33m         \u001b[0mself\u001b[0m\u001b[1;33m.\u001b[0m\u001b[0mopen_dir\u001b[0m\u001b[1;33m(\u001b[0m\u001b[1;33m)\u001b[0m\u001b[1;33m\u001b[0m\u001b[1;33m\u001b[0m\u001b[0m\n\u001b[0m\u001b[0;32m     61\u001b[0m \u001b[1;33m\u001b[0m\u001b[0m\n",
      "\u001b[1;32m<ipython-input-2-24ec974f94cb>\u001b[0m in \u001b[0;36mopen_dir\u001b[1;34m(self)\u001b[0m\n\u001b[0;32m     25\u001b[0m             \u001b[1;32mif\u001b[0m \u001b[0mfile\u001b[0m\u001b[1;33m.\u001b[0m\u001b[0mendswith\u001b[0m\u001b[1;33m(\u001b[0m\u001b[1;34m\".csv\"\u001b[0m\u001b[1;33m)\u001b[0m\u001b[1;33m:\u001b[0m\u001b[1;33m\u001b[0m\u001b[1;33m\u001b[0m\u001b[0m\n\u001b[0;32m     26\u001b[0m                 \u001b[0msrc_file_path\u001b[0m \u001b[1;33m=\u001b[0m \u001b[1;34mf\"{file}\"\u001b[0m\u001b[1;33m\u001b[0m\u001b[1;33m\u001b[0m\u001b[0m\n\u001b[1;32m---> 27\u001b[1;33m                 \u001b[0mos\u001b[0m\u001b[1;33m.\u001b[0m\u001b[0mrename\u001b[0m\u001b[1;33m(\u001b[0m\u001b[0msrc_file_path\u001b[0m\u001b[1;33m,\u001b[0m\u001b[0mdest_file_path\u001b[0m\u001b[1;33m)\u001b[0m\u001b[1;33m\u001b[0m\u001b[1;33m\u001b[0m\u001b[0m\n\u001b[0m\u001b[0;32m     28\u001b[0m             \u001b[1;32melse\u001b[0m\u001b[1;33m:\u001b[0m\u001b[1;33m\u001b[0m\u001b[1;33m\u001b[0m\u001b[0m\n\u001b[0;32m     29\u001b[0m                 \u001b[0msrc_file_path\u001b[0m \u001b[1;33m=\u001b[0m \u001b[1;34mf\"{file}\"\u001b[0m\u001b[1;33m\u001b[0m\u001b[1;33m\u001b[0m\u001b[0m\n",
      "\u001b[1;31mFileNotFoundError\u001b[0m: [WinError 3] The system cannot find the path specified: 'part-00000-a3609a32-5a30-4120-9d0a-6b1b81ede4ba-c000.csv' -> '../../../data_files/pre_landing/raw_files/school/student/studentdetails.csv'"
     ]
    }
   ],
   "source": [
    "if __name__=='__main__':\n",
    "    \n",
    "    file_parameter1={\n",
    "        \"dest_format\":\"csv\",\n",
    "        \"src_path\":\"../../../raw_data/raw_files/school/studentdetails.csv\",\n",
    "        \"src_format\":\"csv\",\n",
    "        \"dest_path\":\"../../../data_files/pre_landing/raw_files/school/student\",\n",
    "        \"view_name\":\"studentdetails\"\n",
    "    }\n",
    "    \n",
    "    file_parameter2={\n",
    "        \"dest_format\":\"csv\",\n",
    "        \"src_path\":\"../../../raw_data/raw_files/school/subjectdetails.csv\",\n",
    "        \"src_format\":\"csv\",\n",
    "        \"dest_path\":\"../../../data_files/pre_landing/raw_files/school/subject\",\n",
    "        \"view_name\":\"subjectdetails\"\n",
    "    }\n",
    "    \n",
    "    file_parameter3={\n",
    "        \"dest_format\":\"csv\",\n",
    "        \"dest_path\":\"../../../data_files/pre_landing/raw_files/school/marks\"\n",
    "    }\n",
    "    \n",
    "    prelanding_obj1=Raw_to_prelanding(file_parameter1)\n",
    "    prelanding_obj2=Raw_to_prelanding(file_parameter2)\n",
    "    prelanding_obj3=Raw_to_prelanding(file_parameter3)\n",
    "    prelanding_obj1.main_block()\n",
    "    #prelanding_obj2.main_block()\n",
    "    #prelanding_obj3.dynamic_data_generate()"
   ]
  },
  {
   "cell_type": "code",
   "execution_count": null,
   "metadata": {},
   "outputs": [],
   "source": []
  }
 ],
 "metadata": {
  "kernelspec": {
   "display_name": "Python 3",
   "language": "python",
   "name": "python3"
  },
  "language_info": {
   "codemirror_mode": {
    "name": "ipython",
    "version": 3
   },
   "file_extension": ".py",
   "mimetype": "text/x-python",
   "name": "python",
   "nbconvert_exporter": "python",
   "pygments_lexer": "ipython3",
   "version": "3.8.3"
  }
 },
 "nbformat": 4,
 "nbformat_minor": 4
}
