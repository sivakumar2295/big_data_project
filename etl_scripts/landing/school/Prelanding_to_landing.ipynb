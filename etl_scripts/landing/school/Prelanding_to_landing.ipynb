{
 "cells": [
  {
   "cell_type": "code",
   "execution_count": 3,
   "metadata": {},
   "outputs": [],
   "source": [
    "#library import\n",
    "import findspark\n",
    "findspark.init()\n",
    "import pyspark\n",
    "from pyspark.sql import SparkSession\n",
    "import os, random, json\n",
    "spark=SparkSession.builder.master(\"local\").appName(\"studentmarkpractice\").getOrCreate()"
   ]
  },
  {
   "cell_type": "code",
   "execution_count": 10,
   "metadata": {},
   "outputs": [],
   "source": [
    "class Prelanding_to_landing:\n",
    "    \n",
    "    def __init__(self,file_parameter):\n",
    "        \n",
    "        \"\"\"function to get input parameters to read the file from local path\"\"\"\n",
    "        self.file_parameter=file_parameter\n",
    "        \n",
    "    def read_csv(self):\n",
    "        return spark.read.format(self.file_parameter['src_format']).option(\"header\",\"True\").load(self.file_parameter['src_path'])\n",
    "    \n",
    "    def write_parquet(self,df):\n",
    "        df.write.format(self.file_parameter['dest_format']).mode(\"overwrite\").option(\"path\",self.file_parameter['dest_path']).saveAsTable(\"school.{0}\".format(self.file_parameter['view_name']))\n",
    "    \n",
    "    def open_dir(self):\n",
    "        os.chdir(self.file_parameter['dest_path'])\n",
    "        dest_file_path=f\"{self.file_parameter['view_name']}.parquet\"\n",
    "        for file in os.listdir():\n",
    "        # Check whether file is in text format or not\n",
    "            if file.endswith(\".parquet\"):\n",
    "                src_file_path = f\"{file}\"\n",
    "                os.rename(src_file_path,dest_file_path)\n",
    "            else:\n",
    "                src_file_path = f\"{file}\"\n",
    "                os.remove(src_file_path)\n",
    "    \n",
    "    def main_block(self):\n",
    "        \n",
    "        \"\"\"main execution block\"\"\"\n",
    "        df=self.read_csv()\n",
    "        self.write_parquet(df)\n",
    "        self.open_dir()\n",
    "        "
   ]
  },
  {
   "cell_type": "code",
   "execution_count": 11,
   "metadata": {},
   "outputs": [],
   "source": [
    "if __name__=='__main__':\n",
    "    file_parameter1={\n",
    "        \"src_format\":\"csv\",\n",
    "        \"src_path\":\"C:/Git_Repo/big_data_project/data_files/pre_landing/raw_files/school/student/studentdetails.csv\",\n",
    "        \"dest_format\":\"parquet\",\n",
    "        \"dest_path\":\"C:/Git_Repo/big_data_project/data_files/landing/school_landing/student\",\n",
    "        \"view_name\":\"studentdetails\"\n",
    "    }\n",
    "    \n",
    "    file_parameter2={\n",
    "        \"src_format\":\"csv\",\n",
    "        \"src_path\":\"C:/Git_Repo/big_data_project/data_files/pre_landing/raw_files/school/subject/subjectdetails.csv\",\n",
    "        \"dest_format\":\"parquet\",\n",
    "        \"dest_path\":\"C:/Git_Repo/big_data_project/data_files/landing/school_landing/subject\",\n",
    "        \"view_name\":\"subjectdetails\"\n",
    "    }\n",
    "    \n",
    "    file_parameter3={\n",
    "        \"src_format\":\"csv\",\n",
    "        \"src_path\":\"C:/Git_Repo/big_data_project/data_files/pre_landing/raw_files/school/marks/markdetails.csv\",\n",
    "        \"dest_format\":\"parquet\",\n",
    "        \"dest_path\":\"C:/Git_Repo/big_data_project/data_files/landing/school_landing/marks\",\n",
    "        \"view_name\":\"markdetails\"\n",
    "    }\n",
    "    \n",
    "    spark.sql(\"create database if not exists {0}\".format(\"school\"))\n",
    "    landing_obj1=Prelanding_to_landing(file_parameter1)\n",
    "    landing_obj2=Prelanding_to_landing(file_parameter2)\n",
    "    landing_obj3=Prelanding_to_landing(file_parameter3)\n",
    "    landing_obj1.main_block()\n",
    "    landing_obj2.main_block()\n",
    "    landing_obj3.main_block()\n",
    "    "
   ]
  },
  {
   "cell_type": "code",
   "execution_count": null,
   "metadata": {},
   "outputs": [],
   "source": []
  }
 ],
 "metadata": {
  "kernelspec": {
   "display_name": "Python 3",
   "language": "python",
   "name": "python3"
  },
  "language_info": {
   "codemirror_mode": {
    "name": "ipython",
    "version": 3
   },
   "file_extension": ".py",
   "mimetype": "text/x-python",
   "name": "python",
   "nbconvert_exporter": "python",
   "pygments_lexer": "ipython3",
   "version": "3.8.3"
  }
 },
 "nbformat": 4,
 "nbformat_minor": 4
}
