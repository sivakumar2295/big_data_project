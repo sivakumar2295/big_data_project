{
 "cells": [
  {
   "cell_type": "code",
   "execution_count": 1,
   "metadata": {},
   "outputs": [],
   "source": [
    "#library import\n",
    "import findspark\n",
    "findspark.init()\n",
    "import pyspark\n",
    "from pyspark.sql import SparkSession\n",
    "import os, random, json\n",
    "spark=SparkSession.builder.master(\"local\").appName(\"studentmarkpractice\").getOrCreate()"
   ]
  },
  {
   "cell_type": "code",
   "execution_count": 2,
   "metadata": {},
   "outputs": [],
   "source": [
    "class unification_to_refinement:\n",
    "    \n",
    "    \"\"\"refinement\"\"\"\n",
    "    \n",
    "    def __init__(self,file_parameter):\n",
    "        \n",
    "        \"\"\"function to get input parameters to read the file from local path\"\"\"\n",
    "        self.file_parameter=file_parameter\n",
    "        \n",
    "    def read_parquet(self):\n",
    "        return spark.read.format(self.file_parameter['src_format']).option(\"header\",\"True\").load(self.file_parameter['src_path'])\n",
    "    \n",
    "    def write_parquet(self,df):\n",
    "        df.write.format(self.file_parameter['dest_format']).mode(\"overwrite\").option(\"path\",self.file_parameter['dest_path']).saveAsTable(\"school_unified.{0}\".format(self.file_parameter['view_name']))\n",
    "    \n",
    "    def create_view(self,df):\n",
    "        df.createOrReplaceTempView(self.file_parameter['view_name'])\n",
    "    \n",
    "    def open_dir(self):\n",
    "        os.chdir(self.file_parameter['dest_path'])\n",
    "        dest_file_path=f\"{self.file_parameter['view_name']}.parquet\"\n",
    "        for file in os.listdir():\n",
    "        # Check whether file is in text format or not\n",
    "            if file.endswith(\".parquet\"):\n",
    "                src_file_path = f\"{file}\"\n",
    "                os.rename(src_file_path,dest_file_path)\n",
    "            else:\n",
    "                src_file_path = f\"{file}\"\n",
    "                os.remove(src_file_path)\n",
    "                \n",
    "    def main_block(self):\n",
    "        \n",
    "        \"\"\"main execution block\"\"\"\n",
    "        df=self.read_parquet()\n",
    "        self.create_view(df)\n",
    "    "
   ]
  },
  {
   "cell_type": "code",
   "execution_count": 4,
   "metadata": {},
   "outputs": [
    {
     "ename": "FileExistsError",
     "evalue": "[WinError 183] Cannot create a file when that file already exists: 'part-00001-612ed540-3560-4379-9656-765c267f9c4b-c000.snappy.parquet' -> 'highestmark.parquet'",
     "output_type": "error",
     "traceback": [
      "\u001b[1;31m---------------------------------------------------------------------------\u001b[0m",
      "\u001b[1;31mFileExistsError\u001b[0m                           Traceback (most recent call last)",
      "\u001b[1;32m<ipython-input-4-620602da0b3e>\u001b[0m in \u001b[0;36m<module>\u001b[1;34m\u001b[0m\n\u001b[0;32m     18\u001b[0m     \u001b[0mhighmark_df\u001b[0m\u001b[1;33m=\u001b[0m\u001b[0mspark\u001b[0m\u001b[1;33m.\u001b[0m\u001b[0msql\u001b[0m\u001b[1;33m(\u001b[0m\u001b[1;34m\"select * from (select *,dense_rank() over(partition by Subject_Name,Date order by Marks desc) as rank from school)A where A.rank=1 order by Date\"\u001b[0m\u001b[1;33m)\u001b[0m\u001b[1;33m\u001b[0m\u001b[1;33m\u001b[0m\u001b[0m\n\u001b[0;32m     19\u001b[0m     \u001b[0munified_obj2\u001b[0m\u001b[1;33m.\u001b[0m\u001b[0mwrite_parquet\u001b[0m\u001b[1;33m(\u001b[0m\u001b[0mhighmark_df\u001b[0m\u001b[1;33m)\u001b[0m\u001b[1;33m\u001b[0m\u001b[1;33m\u001b[0m\u001b[0m\n\u001b[1;32m---> 20\u001b[1;33m     \u001b[0munified_obj2\u001b[0m\u001b[1;33m.\u001b[0m\u001b[0mopen_dir\u001b[0m\u001b[1;33m(\u001b[0m\u001b[1;33m)\u001b[0m\u001b[1;33m\u001b[0m\u001b[1;33m\u001b[0m\u001b[0m\n\u001b[0m",
      "\u001b[1;32m<ipython-input-2-5d83b4e148e6>\u001b[0m in \u001b[0;36mopen_dir\u001b[1;34m(self)\u001b[0m\n\u001b[0;32m     24\u001b[0m             \u001b[1;32mif\u001b[0m \u001b[0mfile\u001b[0m\u001b[1;33m.\u001b[0m\u001b[0mendswith\u001b[0m\u001b[1;33m(\u001b[0m\u001b[1;34m\".parquet\"\u001b[0m\u001b[1;33m)\u001b[0m\u001b[1;33m:\u001b[0m\u001b[1;33m\u001b[0m\u001b[1;33m\u001b[0m\u001b[0m\n\u001b[0;32m     25\u001b[0m                 \u001b[0msrc_file_path\u001b[0m \u001b[1;33m=\u001b[0m \u001b[1;34mf\"{file}\"\u001b[0m\u001b[1;33m\u001b[0m\u001b[1;33m\u001b[0m\u001b[0m\n\u001b[1;32m---> 26\u001b[1;33m                 \u001b[0mos\u001b[0m\u001b[1;33m.\u001b[0m\u001b[0mrename\u001b[0m\u001b[1;33m(\u001b[0m\u001b[0msrc_file_path\u001b[0m\u001b[1;33m,\u001b[0m\u001b[0mdest_file_path\u001b[0m\u001b[1;33m)\u001b[0m\u001b[1;33m\u001b[0m\u001b[1;33m\u001b[0m\u001b[0m\n\u001b[0m\u001b[0;32m     27\u001b[0m             \u001b[1;32melse\u001b[0m\u001b[1;33m:\u001b[0m\u001b[1;33m\u001b[0m\u001b[1;33m\u001b[0m\u001b[0m\n\u001b[0;32m     28\u001b[0m                 \u001b[0msrc_file_path\u001b[0m \u001b[1;33m=\u001b[0m \u001b[1;34mf\"{file}\"\u001b[0m\u001b[1;33m\u001b[0m\u001b[1;33m\u001b[0m\u001b[0m\n",
      "\u001b[1;31mFileExistsError\u001b[0m: [WinError 183] Cannot create a file when that file already exists: 'part-00001-612ed540-3560-4379-9656-765c267f9c4b-c000.snappy.parquet' -> 'highestmark.parquet'"
     ]
    }
   ],
   "source": [
    "if __name__=='__main__':\n",
    "    file_parameter1={\n",
    "        \"src_format\":\"parquet\",\n",
    "        \"src_path\":\"C:/Git_Repo/big_data_project/data_files/unified/school_unified/overallreport/school.parquet\",\n",
    "        \"view_name\":\"school\"\n",
    "    }\n",
    "    \n",
    "    file_parameter2={\n",
    "        \"dest_format\":\"parquet\",\n",
    "        \"dest_path\":\"C:/Git_Repo/big_data_project/data_files/refinement/school_refinement/highestmark\",\n",
    "        \"view_name\":\"highestmark\"\n",
    "    }\n",
    "    \n",
    "    spark.sql(\"create database if not exists {0}\".format(\"school_unified\"))\n",
    "    unified_obj1=unification_to_refinement(file_parameter1)\n",
    "    unified_obj2=unification_to_refinement(file_parameter2)\n",
    "    unified_obj1.main_block()\n",
    "    highmark_df=spark.sql(\"select * from (select *,dense_rank() over(partition by Subject_Name,Date order by Marks desc) as rank from school)A where A.rank=1 order by Date\")\n",
    "    unified_obj2.write_parquet(highmark_df)\n",
    "    unified_obj2.open_dir()"
   ]
  },
  {
   "cell_type": "code",
   "execution_count": null,
   "metadata": {},
   "outputs": [],
   "source": []
  }
 ],
 "metadata": {
  "kernelspec": {
   "display_name": "Python 3",
   "language": "python",
   "name": "python3"
  },
  "language_info": {
   "codemirror_mode": {
    "name": "ipython",
    "version": 3
   },
   "file_extension": ".py",
   "mimetype": "text/x-python",
   "name": "python",
   "nbconvert_exporter": "python",
   "pygments_lexer": "ipython3",
   "version": "3.8.3"
  }
 },
 "nbformat": 4,
 "nbformat_minor": 4
}
