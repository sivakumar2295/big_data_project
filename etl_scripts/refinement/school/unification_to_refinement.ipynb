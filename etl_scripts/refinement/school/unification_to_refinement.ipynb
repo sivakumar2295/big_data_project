{
 "cells": [
  {
   "cell_type": "code",
   "execution_count": 1,
   "metadata": {},
   "outputs": [],
   "source": [
    "#library import\n",
    "import findspark\n",
    "findspark.init()\n",
    "import pyspark\n",
    "from pyspark.sql import SparkSession\n",
    "import os, random, json\n",
    "spark=SparkSession.builder.master(\"local\").appName(\"studentmarkpractice\").getOrCreate()"
   ]
  },
  {
   "cell_type": "code",
   "execution_count": 2,
   "metadata": {},
   "outputs": [],
   "source": [
    "class unification_to_refinement:\n",
    "    \n",
    "    \"\"\"refinement\"\"\"\n",
    "    \n",
    "    def __init__(self,file_parameter):\n",
    "        \n",
    "        \"\"\"function to get input parameters to read the file from local path\"\"\"\n",
    "        self.file_parameter=file_parameter\n",
    "\n",
    "    def write_parquet(self,df):\n",
    "        df.write.format(self.file_parameter['dest_format']).mode(\"overwrite\").option(\"path\",self.file_parameter['dest_path']).saveAsTable(\"school_refinement.{0}\".format(self.file_parameter['view_name']))\n",
    "  \n",
    "    def main_block(self):\n",
    "        \n",
    "        \"\"\"main execution block\"\"\"\n",
    "        temp_obj=common_ingestion(self.file_parameter)\n",
    "        df=temp_obj.read_input_file()\n",
    "        temp_obj.create_view(df)\n",
    "    "
   ]
  },
  {
   "cell_type": "code",
   "execution_count": 3,
   "metadata": {},
   "outputs": [],
   "source": [
    "if __name__=='__main__':\n",
    "    file_parameter1={\n",
    "        \"src_format\":\"parquet\",\n",
    "        \"src_path\":\"C:/Git_Repo/big_data_project/data_files/unified/school_unified/overallreport.parquet\",\n",
    "        \"view_name\":\"school\"\n",
    "    }\n",
    "    \n",
    "    file_parameter2={\n",
    "        \"dest_format\":\"parquet\",\n",
    "        \"dest_path\":\"C:/Git_Repo/big_data_project/data_files/refinement/school_refinement/highestmark.parquet\",\n",
    "        \"view_name\":\"highestmark\"\n",
    "    }\n",
    "    \n",
    "    %run C:/Git_Repo/big_data_project/etl_scripts/common_ingestion/common_ingestion.ipynb\n",
    "    \n",
    "    spark.sql(\"create database if not exists {0}\".format(\"school_refinement\"))\n",
    "    unified_obj1=unification_to_refinement(file_parameter1)\n",
    "    unified_obj2=unification_to_refinement(file_parameter2)\n",
    "    unified_obj1.main_block()\n",
    "    sql_query=open(\"C:/Git_Repo/big_data_project/config/refinement_sql.sql\",\"r\")\n",
    "    highmark_df=spark.sql(sql_query.read())\n",
    "    unified_obj2.write_parquet(highmark_df)\n",
    "    "
   ]
  },
  {
   "cell_type": "code",
   "execution_count": null,
   "metadata": {},
   "outputs": [],
   "source": []
  }
 ],
 "metadata": {
  "kernelspec": {
   "display_name": "Python 3",
   "language": "python",
   "name": "python3"
  },
  "language_info": {
   "codemirror_mode": {
    "name": "ipython",
    "version": 3
   },
   "file_extension": ".py",
   "mimetype": "text/x-python",
   "name": "python",
   "nbconvert_exporter": "python",
   "pygments_lexer": "ipython3",
   "version": "3.8.3"
  }
 },
 "nbformat": 4,
 "nbformat_minor": 4
}
