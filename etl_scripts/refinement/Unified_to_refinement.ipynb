{
 "cells": [
  {
   "cell_type": "code",
   "execution_count": null,
   "id": "0c4f5c0b",
   "metadata": {},
   "outputs": [],
   "source": []
  },
  {
   "cell_type": "code",
   "execution_count": null,
   "id": "3299d104",
   "metadata": {},
   "outputs": [],
   "source": []
  },
  {
   "cell_type": "code",
   "execution_count": null,
   "id": "eaeaadbc",
   "metadata": {},
   "outputs": [],
   "source": [
    "if __name__=='__main__':\n",
    "    \n",
    "    file_read={\n",
    "        \"csv_format\":\".csv\",\n",
    "        \"csv\":\"csv\",\n",
    "        \"parquet_format\":\".parquet\",\n",
    "        \"parquet\":\"parquet\",\n",
    "        \"table_name_school_unified\":\"unified_student_details\",\n",
    "        \"table_name_students\":\"students\",\n",
    "        \"table_name_subject\":\"subjects\",\n",
    "        \"read_filename_marks\":\"/marks/markdetails\",\n",
    "        \"read_filename_student\":\"/student/studentdetails\",\n",
    "        \"read_filename_subject\":\"/subject/subjectdetails\",\n",
    "        \n",
    "        \"write_merged_df\":\"/school_unified/students_details.parquet\",\n",
    "        \"dest_base_write_path\":\"/Users/vasanth_ku/Vasanth/spark-apache/git projects/big_data_project_git/data_files/unified\",\n",
    "        \"src_base_read_path\":\"/Users/vasanth_ku/Vasanth/spark-apache/git projects/big_data_project_git/data_files/landing/school_landing\",\n",
    "        \"temp_table\":\"school_table\",\n",
    "        \"local_db_name\":\"school_unified\",\n",
    "\n",
    "    }\n",
    "   \n",
    "    \n",
    "\n",
    "    unified_obj1=parquet_to_unified(file_read)\n",
    "    unified_obj1.main_block()\n",
    "   "
   ]
  }
 ],
 "metadata": {
  "kernelspec": {
   "display_name": "Python 3 (ipykernel)",
   "language": "python",
   "name": "python3"
  },
  "language_info": {
   "codemirror_mode": {
    "name": "ipython",
    "version": 3
   },
   "file_extension": ".py",
   "mimetype": "text/x-python",
   "name": "python",
   "nbconvert_exporter": "python",
   "pygments_lexer": "ipython3",
   "version": "3.9.7"
  }
 },
 "nbformat": 4,
 "nbformat_minor": 5
}
