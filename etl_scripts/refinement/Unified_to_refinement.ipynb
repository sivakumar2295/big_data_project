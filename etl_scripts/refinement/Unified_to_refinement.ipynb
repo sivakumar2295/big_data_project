{
 "cells": [
  {
   "cell_type": "code",
   "execution_count": 2,
   "id": "768fdf72",
   "metadata": {},
   "outputs": [
    {
     "name": "stderr",
     "output_type": "stream",
     "text": [
      "Using Spark's default log4j profile: org/apache/spark/log4j-defaults.properties\n",
      "Setting default log level to \"WARN\".\n",
      "To adjust logging level use sc.setLogLevel(newLevel). For SparkR, use setLogLevel(newLevel).\n",
      "22/02/07 15:58:27 WARN NativeCodeLoader: Unable to load native-hadoop library for your platform... using builtin-java classes where applicable\n",
      "22/02/07 15:58:33 WARN Utils: Service 'SparkUI' could not bind on port 4040. Attempting port 4041.\n",
      "22/02/07 15:58:33 WARN Utils: Service 'SparkUI' could not bind on port 4041. Attempting port 4042.\n",
      "22/02/07 15:58:33 WARN Utils: Service 'SparkUI' could not bind on port 4042. Attempting port 4043.\n",
      "22/02/07 15:58:33 WARN Utils: Service 'SparkUI' could not bind on port 4043. Attempting port 4044.\n",
      "22/02/07 15:58:33 WARN Utils: Service 'SparkUI' could not bind on port 4044. Attempting port 4045.\n"
     ]
    }
   ],
   "source": [
    "#library import\n",
    "import findspark\n",
    "findspark.init()\n",
    "import pyspark\n",
    "from pyspark.sql import SparkSession\n",
    "import os\n",
    "from pyspark.sql.functions import *\n",
    "spark=SparkSession.builder.master(\"local\").appName(\"unified_to_refinemant\").getOrCreate()"
   ]
  },
  {
   "cell_type": "code",
   "execution_count": 16,
   "id": "e92f3bf4",
   "metadata": {},
   "outputs": [],
   "source": [
    "#script execution for raw data to landing\n",
    "class unified_to_refinement:\n",
    "    \n",
    "    \"\"\"Script to read parquet file from local path to unified..\"\"\"\n",
    "    \n",
    "    def __init__(self,file_parameter):\n",
    "        \n",
    "        \"\"\"function to get input parameters to read the file from local path\"\"\"\n",
    "        self.file_parameter=file_parameter\n",
    "        \n",
    "        \"\"\"read parquet data from local\"\"\"\n",
    "    def read_parquet(self,fileformat,file_path):\n",
    "        spark.read.parquet(file_path).show()\n",
    "        return spark.read.parquet(file_path)\n",
    "\n",
    "        \"\"\"save file as parquet and also save as table in local db\"\"\"\n",
    "    def write_parquet(self,df,dest_path,table_name):   \n",
    "        print(dest_path,table_name)\n",
    "        df.write.mode(\"overwrite\").parquet(dest_path)\n",
    "        df.coalesce(1).write.format(self.file_parameter['parquet']).mode(\"overwrite\").option(\"path\",dest_path)\\\n",
    "        .saveAsTable(\"school_refinement.{0}\".format(table_name))\n",
    "        \n",
    "        \n",
    "        \"\"\"creating temporary view to query the 1st rank students from school unified_data\"\"\"\n",
    "        \n",
    "    def create_view(self,df):\n",
    "        df.createOrReplaceTempView(self.file_parameter['temp_table'])\n",
    "        temp_df = spark.sql(\"select * from {0}\".format(self.file_parameter['temp_table']))\n",
    "        temp_df.show(truncate = False)\n",
    "        highest_marks_df = spark.sql(\"select * from (select *, dense_rank() over(partition by subject_name, month(exam_date) order by marks DESC)as highest_mark  from Refinement_student_details)A where A.highest_mark = 1 order by month(exam_date)\")\n",
    "        return highest_marks_df\n",
    "    \n",
    "    def main_block(self):\n",
    "        \n",
    "        \"\"\"main execution block\"\"\"\n",
    "        spark.sql(\"create database if not exists {0}\".format(self.file_parameter['local_db_name']))\n",
    "        students_details=self.read_parquet(self.file_parameter['parquet_format'],self.file_parameter['src_base_read_path']+self.file_parameter['read_filename_school_unified']+self.file_parameter['parquet_format']);\n",
    "       \n",
    "        parquet_df1 = self.create_view(students_details);\n",
    "        self.write_parquet(parquet_df1,self.file_parameter['dest_base_write_path']+self.file_parameter['write_merged_df'],self.file_parameter['table_name_school_refinement']);\n",
    "\n",
    "        \n",
    "        "
   ]
  },
  {
   "cell_type": "code",
   "execution_count": 17,
   "id": "69fea744",
   "metadata": {},
   "outputs": [
    {
     "name": "stdout",
     "output_type": "stream",
     "text": [
      "+----------+----------+----------+-----+----------------------------+-----------------------------+----------------------------+-----------------------------+------------+------------------------------+-------------------------------+------------------------------+-------------------------------+------------+------------------------------+-------------------------------+------------------------------+-------------------------------+\n",
      "|subject_id|student_id| exam_date|marks|marks_audit_created_username|marks_audit_created_timestamp|marks_audit_updated_username|marks_audit_updated_timestamp|student_name|student_audit_created_username|student_audit_created_timestamp|student_audit_updated_username|student_audit_updated_timestamp|subject_name|subject_audit_created_username|subject_audit_created_timestamp|subject_audit_updated_username|subject_audit_updated_timestamp|\n",
      "+----------+----------+----------+-----+----------------------------+-----------------------------+----------------------------+-----------------------------+------------+------------------------------+-------------------------------+------------------------------+-------------------------------+------------+------------------------------+-------------------------------+------------------------------+-------------------------------+\n",
      "|      7002|      2180|11-26-2021|   72|                     vasanth|         2022-02-07 18:40:...|                     vasanth|         2022-02-07 18:40:...|    Frederic|                       vasanth|           2022-02-05 22:15:...|                       vasanth|           2022-02-05 22:15:...|     English|                       vasanth|           2022-02-05 22:15:...|                       vasanth|           2022-02-05 22:15:...|\n",
      "|      7003|      2180|11-26-2021|   89|                     vasanth|         2022-02-07 18:40:...|                     vasanth|         2022-02-07 18:40:...|    Frederic|                       vasanth|           2022-02-05 22:15:...|                       vasanth|           2022-02-05 22:15:...|       Maths|                       vasanth|           2022-02-05 22:15:...|                       vasanth|           2022-02-05 22:15:...|\n",
      "|      7004|      2180|11-26-2021|   92|                     vasanth|         2022-02-07 18:40:...|                     vasanth|         2022-02-07 18:40:...|    Frederic|                       vasanth|           2022-02-05 22:15:...|                       vasanth|           2022-02-05 22:15:...|     Science|                       vasanth|           2022-02-05 22:15:...|                       vasanth|           2022-02-05 22:15:...|\n",
      "|      7002|      2180|12-26-2021|   49|                     vasanth|         2022-02-07 18:40:...|                     vasanth|         2022-02-07 18:40:...|    Frederic|                       vasanth|           2022-02-05 22:15:...|                       vasanth|           2022-02-05 22:15:...|     English|                       vasanth|           2022-02-05 22:15:...|                       vasanth|           2022-02-05 22:15:...|\n",
      "|      7003|      2180|12-26-2021|   93|                     vasanth|         2022-02-07 18:40:...|                     vasanth|         2022-02-07 18:40:...|    Frederic|                       vasanth|           2022-02-05 22:15:...|                       vasanth|           2022-02-05 22:15:...|       Maths|                       vasanth|           2022-02-05 22:15:...|                       vasanth|           2022-02-05 22:15:...|\n",
      "|      7004|      2180|12-26-2021|   55|                     vasanth|         2022-02-07 18:40:...|                     vasanth|         2022-02-07 18:40:...|    Frederic|                       vasanth|           2022-02-05 22:15:...|                       vasanth|           2022-02-05 22:15:...|     Science|                       vasanth|           2022-02-05 22:15:...|                       vasanth|           2022-02-05 22:15:...|\n",
      "|      7002|      2180|01-26-2022|   95|                     vasanth|         2022-02-07 18:40:...|                     vasanth|         2022-02-07 18:40:...|    Frederic|                       vasanth|           2022-02-05 22:15:...|                       vasanth|           2022-02-05 22:15:...|     English|                       vasanth|           2022-02-05 22:15:...|                       vasanth|           2022-02-05 22:15:...|\n",
      "|      7003|      2180|01-26-2022|   66|                     vasanth|         2022-02-07 18:40:...|                     vasanth|         2022-02-07 18:40:...|    Frederic|                       vasanth|           2022-02-05 22:15:...|                       vasanth|           2022-02-05 22:15:...|       Maths|                       vasanth|           2022-02-05 22:15:...|                       vasanth|           2022-02-05 22:15:...|\n",
      "|      7004|      2180|01-26-2022|   47|                     vasanth|         2022-02-07 18:40:...|                     vasanth|         2022-02-07 18:40:...|    Frederic|                       vasanth|           2022-02-05 22:15:...|                       vasanth|           2022-02-05 22:15:...|     Science|                       vasanth|           2022-02-05 22:15:...|                       vasanth|           2022-02-05 22:15:...|\n",
      "|      7002|      2323|11-26-2021|   50|                     vasanth|         2022-02-07 18:40:...|                     vasanth|         2022-02-07 18:40:...|       Henry|                       vasanth|           2022-02-05 22:15:...|                       vasanth|           2022-02-05 22:15:...|     English|                       vasanth|           2022-02-05 22:15:...|                       vasanth|           2022-02-05 22:15:...|\n",
      "|      7003|      2323|11-26-2021|   94|                     vasanth|         2022-02-07 18:40:...|                     vasanth|         2022-02-07 18:40:...|       Henry|                       vasanth|           2022-02-05 22:15:...|                       vasanth|           2022-02-05 22:15:...|       Maths|                       vasanth|           2022-02-05 22:15:...|                       vasanth|           2022-02-05 22:15:...|\n",
      "|      7004|      2323|11-26-2021|   48|                     vasanth|         2022-02-07 18:40:...|                     vasanth|         2022-02-07 18:40:...|       Henry|                       vasanth|           2022-02-05 22:15:...|                       vasanth|           2022-02-05 22:15:...|     Science|                       vasanth|           2022-02-05 22:15:...|                       vasanth|           2022-02-05 22:15:...|\n",
      "|      7002|      2323|12-26-2021|   83|                     vasanth|         2022-02-07 18:40:...|                     vasanth|         2022-02-07 18:40:...|       Henry|                       vasanth|           2022-02-05 22:15:...|                       vasanth|           2022-02-05 22:15:...|     English|                       vasanth|           2022-02-05 22:15:...|                       vasanth|           2022-02-05 22:15:...|\n",
      "|      7003|      2323|12-26-2021|   93|                     vasanth|         2022-02-07 18:40:...|                     vasanth|         2022-02-07 18:40:...|       Henry|                       vasanth|           2022-02-05 22:15:...|                       vasanth|           2022-02-05 22:15:...|       Maths|                       vasanth|           2022-02-05 22:15:...|                       vasanth|           2022-02-05 22:15:...|\n",
      "|      7004|      2323|12-26-2021|   42|                     vasanth|         2022-02-07 18:40:...|                     vasanth|         2022-02-07 18:40:...|       Henry|                       vasanth|           2022-02-05 22:15:...|                       vasanth|           2022-02-05 22:15:...|     Science|                       vasanth|           2022-02-05 22:15:...|                       vasanth|           2022-02-05 22:15:...|\n",
      "|      7002|      2323|01-26-2022|   47|                     vasanth|         2022-02-07 18:40:...|                     vasanth|         2022-02-07 18:40:...|       Henry|                       vasanth|           2022-02-05 22:15:...|                       vasanth|           2022-02-05 22:15:...|     English|                       vasanth|           2022-02-05 22:15:...|                       vasanth|           2022-02-05 22:15:...|\n",
      "|      7003|      2323|01-26-2022|   72|                     vasanth|         2022-02-07 18:40:...|                     vasanth|         2022-02-07 18:40:...|       Henry|                       vasanth|           2022-02-05 22:15:...|                       vasanth|           2022-02-05 22:15:...|       Maths|                       vasanth|           2022-02-05 22:15:...|                       vasanth|           2022-02-05 22:15:...|\n",
      "|      7004|      2323|01-26-2022|   85|                     vasanth|         2022-02-07 18:40:...|                     vasanth|         2022-02-07 18:40:...|       Henry|                       vasanth|           2022-02-05 22:15:...|                       vasanth|           2022-02-05 22:15:...|     Science|                       vasanth|           2022-02-05 22:15:...|                       vasanth|           2022-02-05 22:15:...|\n",
      "|      7002|      2586|11-26-2021|   49|                     vasanth|         2022-02-07 18:40:...|                     vasanth|         2022-02-07 18:40:...|     Georges|                       vasanth|           2022-02-05 22:15:...|                       vasanth|           2022-02-05 22:15:...|     English|                       vasanth|           2022-02-05 22:15:...|                       vasanth|           2022-02-05 22:15:...|\n",
      "|      7003|      2586|11-26-2021|   82|                     vasanth|         2022-02-07 18:40:...|                     vasanth|         2022-02-07 18:40:...|     Georges|                       vasanth|           2022-02-05 22:15:...|                       vasanth|           2022-02-05 22:15:...|       Maths|                       vasanth|           2022-02-05 22:15:...|                       vasanth|           2022-02-05 22:15:...|\n",
      "+----------+----------+----------+-----+----------------------------+-----------------------------+----------------------------+-----------------------------+------------+------------------------------+-------------------------------+------------------------------+-------------------------------+------------+------------------------------+-------------------------------+------------------------------+-------------------------------+\n",
      "only showing top 20 rows\n",
      "\n"
     ]
    },
    {
     "name": "stdout",
     "output_type": "stream",
     "text": [
      "+----------+----------+----------+-----+----------------------------+-----------------------------+----------------------------+-----------------------------+------------+------------------------------+-------------------------------+------------------------------+-------------------------------+------------+------------------------------+-------------------------------+------------------------------+-------------------------------+\n",
      "|subject_id|student_id|exam_date |marks|marks_audit_created_username|marks_audit_created_timestamp|marks_audit_updated_username|marks_audit_updated_timestamp|student_name|student_audit_created_username|student_audit_created_timestamp|student_audit_updated_username|student_audit_updated_timestamp|subject_name|subject_audit_created_username|subject_audit_created_timestamp|subject_audit_updated_username|subject_audit_updated_timestamp|\n",
      "+----------+----------+----------+-----+----------------------------+-----------------------------+----------------------------+-----------------------------+------------+------------------------------+-------------------------------+------------------------------+-------------------------------+------------+------------------------------+-------------------------------+------------------------------+-------------------------------+\n",
      "|7002      |2180      |11-26-2021|72   |vasanth                     |2022-02-07 18:40:44.082      |vasanth                     |2022-02-07 18:40:44.082      |Frederic    |vasanth                       |2022-02-05 22:15:58.693        |vasanth                       |2022-02-05 22:15:58.693        |English     |vasanth                       |2022-02-05 22:15:59.857        |vasanth                       |2022-02-05 22:15:59.857        |\n",
      "|7003      |2180      |11-26-2021|89   |vasanth                     |2022-02-07 18:40:44.082      |vasanth                     |2022-02-07 18:40:44.082      |Frederic    |vasanth                       |2022-02-05 22:15:58.693        |vasanth                       |2022-02-05 22:15:58.693        |Maths       |vasanth                       |2022-02-05 22:15:59.857        |vasanth                       |2022-02-05 22:15:59.857        |\n",
      "|7004      |2180      |11-26-2021|92   |vasanth                     |2022-02-07 18:40:44.082      |vasanth                     |2022-02-07 18:40:44.082      |Frederic    |vasanth                       |2022-02-05 22:15:58.693        |vasanth                       |2022-02-05 22:15:58.693        |Science     |vasanth                       |2022-02-05 22:15:59.857        |vasanth                       |2022-02-05 22:15:59.857        |\n",
      "|7002      |2180      |12-26-2021|49   |vasanth                     |2022-02-07 18:40:44.082      |vasanth                     |2022-02-07 18:40:44.082      |Frederic    |vasanth                       |2022-02-05 22:15:58.693        |vasanth                       |2022-02-05 22:15:58.693        |English     |vasanth                       |2022-02-05 22:15:59.857        |vasanth                       |2022-02-05 22:15:59.857        |\n",
      "|7003      |2180      |12-26-2021|93   |vasanth                     |2022-02-07 18:40:44.082      |vasanth                     |2022-02-07 18:40:44.082      |Frederic    |vasanth                       |2022-02-05 22:15:58.693        |vasanth                       |2022-02-05 22:15:58.693        |Maths       |vasanth                       |2022-02-05 22:15:59.857        |vasanth                       |2022-02-05 22:15:59.857        |\n",
      "|7004      |2180      |12-26-2021|55   |vasanth                     |2022-02-07 18:40:44.082      |vasanth                     |2022-02-07 18:40:44.082      |Frederic    |vasanth                       |2022-02-05 22:15:58.693        |vasanth                       |2022-02-05 22:15:58.693        |Science     |vasanth                       |2022-02-05 22:15:59.857        |vasanth                       |2022-02-05 22:15:59.857        |\n",
      "|7002      |2180      |01-26-2022|95   |vasanth                     |2022-02-07 18:40:44.082      |vasanth                     |2022-02-07 18:40:44.082      |Frederic    |vasanth                       |2022-02-05 22:15:58.693        |vasanth                       |2022-02-05 22:15:58.693        |English     |vasanth                       |2022-02-05 22:15:59.857        |vasanth                       |2022-02-05 22:15:59.857        |\n",
      "|7003      |2180      |01-26-2022|66   |vasanth                     |2022-02-07 18:40:44.082      |vasanth                     |2022-02-07 18:40:44.082      |Frederic    |vasanth                       |2022-02-05 22:15:58.693        |vasanth                       |2022-02-05 22:15:58.693        |Maths       |vasanth                       |2022-02-05 22:15:59.857        |vasanth                       |2022-02-05 22:15:59.857        |\n",
      "|7004      |2180      |01-26-2022|47   |vasanth                     |2022-02-07 18:40:44.082      |vasanth                     |2022-02-07 18:40:44.082      |Frederic    |vasanth                       |2022-02-05 22:15:58.693        |vasanth                       |2022-02-05 22:15:58.693        |Science     |vasanth                       |2022-02-05 22:15:59.857        |vasanth                       |2022-02-05 22:15:59.857        |\n",
      "|7002      |2323      |11-26-2021|50   |vasanth                     |2022-02-07 18:40:44.082      |vasanth                     |2022-02-07 18:40:44.082      |Henry       |vasanth                       |2022-02-05 22:15:58.693        |vasanth                       |2022-02-05 22:15:58.693        |English     |vasanth                       |2022-02-05 22:15:59.857        |vasanth                       |2022-02-05 22:15:59.857        |\n",
      "|7003      |2323      |11-26-2021|94   |vasanth                     |2022-02-07 18:40:44.082      |vasanth                     |2022-02-07 18:40:44.082      |Henry       |vasanth                       |2022-02-05 22:15:58.693        |vasanth                       |2022-02-05 22:15:58.693        |Maths       |vasanth                       |2022-02-05 22:15:59.857        |vasanth                       |2022-02-05 22:15:59.857        |\n",
      "|7004      |2323      |11-26-2021|48   |vasanth                     |2022-02-07 18:40:44.082      |vasanth                     |2022-02-07 18:40:44.082      |Henry       |vasanth                       |2022-02-05 22:15:58.693        |vasanth                       |2022-02-05 22:15:58.693        |Science     |vasanth                       |2022-02-05 22:15:59.857        |vasanth                       |2022-02-05 22:15:59.857        |\n",
      "|7002      |2323      |12-26-2021|83   |vasanth                     |2022-02-07 18:40:44.082      |vasanth                     |2022-02-07 18:40:44.082      |Henry       |vasanth                       |2022-02-05 22:15:58.693        |vasanth                       |2022-02-05 22:15:58.693        |English     |vasanth                       |2022-02-05 22:15:59.857        |vasanth                       |2022-02-05 22:15:59.857        |\n",
      "|7003      |2323      |12-26-2021|93   |vasanth                     |2022-02-07 18:40:44.082      |vasanth                     |2022-02-07 18:40:44.082      |Henry       |vasanth                       |2022-02-05 22:15:58.693        |vasanth                       |2022-02-05 22:15:58.693        |Maths       |vasanth                       |2022-02-05 22:15:59.857        |vasanth                       |2022-02-05 22:15:59.857        |\n",
      "|7004      |2323      |12-26-2021|42   |vasanth                     |2022-02-07 18:40:44.082      |vasanth                     |2022-02-07 18:40:44.082      |Henry       |vasanth                       |2022-02-05 22:15:58.693        |vasanth                       |2022-02-05 22:15:58.693        |Science     |vasanth                       |2022-02-05 22:15:59.857        |vasanth                       |2022-02-05 22:15:59.857        |\n",
      "|7002      |2323      |01-26-2022|47   |vasanth                     |2022-02-07 18:40:44.082      |vasanth                     |2022-02-07 18:40:44.082      |Henry       |vasanth                       |2022-02-05 22:15:58.693        |vasanth                       |2022-02-05 22:15:58.693        |English     |vasanth                       |2022-02-05 22:15:59.857        |vasanth                       |2022-02-05 22:15:59.857        |\n",
      "|7003      |2323      |01-26-2022|72   |vasanth                     |2022-02-07 18:40:44.082      |vasanth                     |2022-02-07 18:40:44.082      |Henry       |vasanth                       |2022-02-05 22:15:58.693        |vasanth                       |2022-02-05 22:15:58.693        |Maths       |vasanth                       |2022-02-05 22:15:59.857        |vasanth                       |2022-02-05 22:15:59.857        |\n",
      "|7004      |2323      |01-26-2022|85   |vasanth                     |2022-02-07 18:40:44.082      |vasanth                     |2022-02-07 18:40:44.082      |Henry       |vasanth                       |2022-02-05 22:15:58.693        |vasanth                       |2022-02-05 22:15:58.693        |Science     |vasanth                       |2022-02-05 22:15:59.857        |vasanth                       |2022-02-05 22:15:59.857        |\n",
      "|7002      |2586      |11-26-2021|49   |vasanth                     |2022-02-07 18:40:44.082      |vasanth                     |2022-02-07 18:40:44.082      |Georges     |vasanth                       |2022-02-05 22:15:58.693        |vasanth                       |2022-02-05 22:15:58.693        |English     |vasanth                       |2022-02-05 22:15:59.857        |vasanth                       |2022-02-05 22:15:59.857        |\n",
      "|7003      |2586      |11-26-2021|82   |vasanth                     |2022-02-07 18:40:44.082      |vasanth                     |2022-02-07 18:40:44.082      |Georges     |vasanth                       |2022-02-05 22:15:58.693        |vasanth                       |2022-02-05 22:15:58.693        |Maths       |vasanth                       |2022-02-05 22:15:59.857        |vasanth                       |2022-02-05 22:15:59.857        |\n",
      "+----------+----------+----------+-----+----------------------------+-----------------------------+----------------------------+-----------------------------+------------+------------------------------+-------------------------------+------------------------------+-------------------------------+------------+------------------------------+-------------------------------+------------------------------+-------------------------------+\n",
      "only showing top 20 rows\n",
      "\n",
      "../../../../git projects/big_data_project_git/data_files/refinement/school_Refinements/students_highestmarks.parquet students_highestmarks\n"
     ]
    },
    {
     "name": "stderr",
     "output_type": "stream",
     "text": [
      "22/02/07 22:35:36 WARN HadoopFSUtils: The directory file:/Users/vasanth_ku/Vasanth/spark-apache/git%20projects/big_data_project_git/git projects/big_data_project_git/data_files/refinement/school_Refinements/students_highestmarks.parquet was not found. Was it deleted very recently?\n"
     ]
    }
   ],
   "source": [
    "if __name__=='__main__':\n",
    "    \n",
    "    file_read={\n",
    "        \"csv_format\":\".csv\",\n",
    "        \"csv\":\"csv\",\n",
    "        \"parquet_format\":\".parquet\",\n",
    "        \"parquet\":\"parquet\",\n",
    "        \"table_name_school_refinement\":\"students_highestmarks\",\n",
    "        \"table_name_students\":\"students\",\n",
    "        \"table_name_subject\":\"subjects\",\n",
    "        \"read_filename_marks\":\"/marks/markdetails\",\n",
    "        \"read_filename_student\":\"/student/studentdetails\",\n",
    "        \"read_filename_subject\":\"/subject/subjectdetails\",\n",
    "        \"read_filename_school_unified\":\"/school_unified/students_details\",\n",
    "        \n",
    "        \"write_merged_df\":\"/school_Refinements/students_highestmarks.parquet\",\n",
    "        \"dest_base_write_path\":\"../../../../git projects/big_data_project_git/data_files/refinement\",\n",
    "        \"src_base_read_path\":\"../../../../git projects/big_data_project_git/data_files/unified\",\n",
    "        \"temp_table\":\"Refinement_student_details\",\n",
    "        \"local_db_name\":\"school_refinement\",\n",
    "\n",
    "    }\n",
    "   \n",
    "    \n",
    "\n",
    "    refinement_obj1=unified_to_refinement(file_read)\n",
    "    refinement_obj1.main_block()\n",
    "   "
   ]
  }
 ],
 "metadata": {
  "kernelspec": {
   "display_name": "Python 3 (ipykernel)",
   "language": "python",
   "name": "python3"
  },
  "language_info": {
   "codemirror_mode": {
    "name": "ipython",
    "version": 3
   },
   "file_extension": ".py",
   "mimetype": "text/x-python",
   "name": "python",
   "nbconvert_exporter": "python",
   "pygments_lexer": "ipython3",
   "version": "3.9.7"
  }
 },
 "nbformat": 4,
 "nbformat_minor": 5
}
